{
 "cells": [
  {
   "cell_type": "code",
   "execution_count": null,
   "id": "23da7c85-7e33-4746-8bbc-d1fc1f16248b",
   "metadata": {},
   "outputs": [],
   "source": [
    "population1 = df[df[\"location\"] == 1]\n",
    "population1.vertebrae.mean()\n",
    "\n",
    "population2 = df[df[\"location\"] == 6]\n",
    "population2.vertebrae.mean()"
   ]
  },
  {
   "cell_type": "code",
   "execution_count": null,
   "id": "028d6dea-4327-4787-8335-61d74f76486d",
   "metadata": {},
   "outputs": [],
   "source": [
    "stats.ttest_ind(population1.vertebrae, population2.vertebrae, equal_var=False)"
   ]
  },
  {
   "cell_type": "code",
   "execution_count": null,
   "id": "3d47e2ec-0abf-482e-89cf-7584ed358571",
   "metadata": {},
   "outputs": [],
   "source": []
  },
  {
   "cell_type": "code",
   "execution_count": null,
   "id": "ab690b34-77cd-47fa-b379-02f361341669",
   "metadata": {},
   "outputs": [],
   "source": []
  },
  {
   "cell_type": "code",
   "execution_count": null,
   "id": "b0661412-ab13-4769-be44-ce6e1794863d",
   "metadata": {},
   "outputs": [],
   "source": []
  }
 ],
 "metadata": {
  "kernelspec": {
   "display_name": "Python 3",
   "language": "python",
   "name": "python3"
  },
  "language_info": {
   "codemirror_mode": {
    "name": "ipython",
    "version": 3
   },
   "file_extension": ".py",
   "mimetype": "text/x-python",
   "name": "python",
   "nbconvert_exporter": "python",
   "pygments_lexer": "ipython3",
   "version": "3.8.8"
  }
 },
 "nbformat": 4,
 "nbformat_minor": 5
}
