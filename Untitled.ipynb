{
 "cells": [
  {
   "cell_type": "code",
   "execution_count": 13,
   "id": "d043280a-390e-42f1-b670-a722e60a4a2c",
   "metadata": {},
   "outputs": [
    {
     "name": "stdout",
     "output_type": "stream",
     "text": [
      "01cee722765ab785ef3c09df28fd5845\n"
     ]
    }
   ],
   "source": [
    "import matplotlib.pyplot as plt\n",
    "import requests\n",
    "import pandas as pd\n",
    "from config import api_key\n",
    "print(api_key)"
   ]
  },
  {
   "cell_type": "code",
   "execution_count": 36,
   "id": "22214016-bdb6-46dd-a74a-249554b0c109",
   "metadata": {},
   "outputs": [
    {
     "name": "stdout",
     "output_type": "stream",
     "text": [
      "http://api.openweathermap.org/data/2.5/weather?q=Phoenix&start=1230872398&end=1262408398&threshold=284&appid=01cee722765ab785ef3c09df28fd5845\n"
     ]
    },
    {
     "data": {
      "text/plain": [
       "{'coord': {'lon': -112.074, 'lat': 33.4484},\n",
       " 'weather': [{'id': 501,\n",
       "   'main': 'Rain',\n",
       "   'description': 'moderate rain',\n",
       "   'icon': '10d'}],\n",
       " 'base': 'stations',\n",
       " 'main': {'temp': 297.41,\n",
       "  'feels_like': 298.19,\n",
       "  'temp_min': 295.88,\n",
       "  'temp_max': 299.33,\n",
       "  'pressure': 1019,\n",
       "  'humidity': 88},\n",
       " 'visibility': 10000,\n",
       " 'wind': {'speed': 4.63, 'deg': 70},\n",
       " 'rain': {'1h': 1.97},\n",
       " 'clouds': {'all': 90},\n",
       " 'dt': 1627078582,\n",
       " 'sys': {'type': 1,\n",
       "  'id': 5347,\n",
       "  'country': 'US',\n",
       "  'sunrise': 1627043682,\n",
       "  'sunset': 1627094073},\n",
       " 'timezone': -25200,\n",
       " 'id': 5308655,\n",
       " 'name': 'Phoenix',\n",
       " 'cod': 200}"
      ]
     },
     "execution_count": 36,
     "metadata": {},
     "output_type": "execute_result"
    }
   ],
   "source": [
    "base_temp_url = \"http://history.openweathermap.org/data/2.5/history/accumulated_temperature?\"\n",
    "city = 'Phoenix'\n",
    "start = '1230872398'\n",
    "end = '1262408398'\n",
    "threshold = 284\n",
    "# time in Unix time\n",
    "\n",
    "accumulated_temp_url = url + f\"q={city}&start={start}&end={end}&threshold={threshold}&appid={api_key}\"\n",
    "print(accumulated_temp_url)\n",
    "\n",
    "response = requests.get(accumulated_temp_url).json()\n",
    "response\n"
   ]
  },
  {
   "cell_type": "code",
   "execution_count": null,
   "id": "5d5996a9-38c2-41ea-a8aa-53e1164c52ca",
   "metadata": {},
   "outputs": [],
   "source": [
    "cities = ['New York', 'Los Angeles', 'Chicago', 'Houston', 'Phoenix']\n",
    "\n"
   ]
  },
  {
   "cell_type": "code",
   "execution_count": 43,
   "id": "e2ca1a04-c244-4d79-935a-f15a9bb30e77",
   "metadata": {},
   "outputs": [],
   "source": [
    "month_call = 'https://history.openweathermap.org/data/2.5/aggregated/month?q=London&month=2&appid={api_key}'"
   ]
  },
  {
   "cell_type": "code",
   "execution_count": 40,
   "id": "ca878241-8ee3-48c7-bc21-bb41cd9f914d",
   "metadata": {},
   "outputs": [],
   "source": []
  },
  {
   "cell_type": "code",
   "execution_count": 45,
   "id": "91403f51-fb09-4fb0-b664-1d719b587c86",
   "metadata": {},
   "outputs": [
    {
     "data": {
      "text/plain": [
       "{'cod': 401,\n",
       " 'message': 'Invalid API key. Please see http://openweathermap.org/faq#error401 for more info.'}"
      ]
     },
     "execution_count": 45,
     "metadata": {},
     "output_type": "execute_result"
    }
   ],
   "source": [
    "year_response = requests.get(month_call).json()\n",
    "year_response"
   ]
  },
  {
   "cell_type": "code",
   "execution_count": null,
   "id": "90e82a9d-7c49-4b1b-a2f6-b214890d511f",
   "metadata": {},
   "outputs": [],
   "source": [
    "new_base_url = 'https://meteostat.p.rapidapi.com'"
   ]
  },
  {
   "cell_type": "code",
   "execution_count": null,
   "id": "e212f5ad-521e-4552-a37b-9c5d05e965b6",
   "metadata": {},
   "outputs": [],
   "source": []
  },
  {
   "cell_type": "code",
   "execution_count": null,
   "id": "74b26edf-d802-4281-80d6-bf9d688f03ff",
   "metadata": {},
   "outputs": [],
   "source": []
  },
  {
   "cell_type": "code",
   "execution_count": null,
   "id": "58fb5d18-a6f6-436a-a468-736018a29740",
   "metadata": {},
   "outputs": [],
   "source": []
  },
  {
   "cell_type": "code",
   "execution_count": null,
   "id": "426b8a0e-1e59-4bb3-89f9-4073bf54ec40",
   "metadata": {},
   "outputs": [],
   "source": []
  }
 ],
 "metadata": {
  "kernelspec": {
   "display_name": "Python 3",
   "language": "python",
   "name": "python3"
  },
  "language_info": {
   "codemirror_mode": {
    "name": "ipython",
    "version": 3
   },
   "file_extension": ".py",
   "mimetype": "text/x-python",
   "name": "python",
   "nbconvert_exporter": "python",
   "pygments_lexer": "ipython3",
   "version": "3.8.8"
  }
 },
 "nbformat": 4,
 "nbformat_minor": 5
}
